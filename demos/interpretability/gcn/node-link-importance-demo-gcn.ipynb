{
 "cells": [
  {
   "cell_type": "markdown",
   "metadata": {},
   "source": [
    "This demo shows how to use integrated gradients in graph convolutional networks to obtain accurate importance estimations for both the nodes and edges. The notebook consists of three parts:\n",
    "- setting up the node classification problem for Cora citation network\n",
    "- training and evaluating a GCN model for node classification\n",
    "- calculating node and edge importances for model's predictions of query (\"target\") nodes\n",
    "\n",
    "<a name=\"refs\"></a>\n",
    "**References**\n",
    "\n",
    "[1] Axiomatic Attribution for Deep Networks. M. Sundararajan, A. Taly, and Q. Yan.\n",
    "    Proceedings of the 34th International Conference on Machine Learning, Sydney, Australia, PMLR 70, 2017\n",
    "    ([link](https://arxiv.org/pdf/1703.01365.pdf)).\n",
    "    \n",
    "[2] Adversarial Examples on Graph Data: Deep Insights into Attack and Defense. H. Wu, C. Wang, Y. Tyshetskiy, A. Docherty, K. Lu, and L. Zhu. arXiv: 1903.01610 ([link](https://arxiv.org/abs/1903.01610))."
   ]
  },
  {
   "cell_type": "code",
   "execution_count": 1,
   "metadata": {},
   "outputs": [],
   "source": [
    "import networkx as nx\n",
    "import pandas as pd\n",
    "import numpy as np\n",
    "from scipy import stats\n",
    "import os\n",
    "import time\n",
    "import stellargraph as sg\n",
    "from stellargraph.mapper import FullBatchNodeGenerator\n",
    "from stellargraph.layer import GCN\n",
    "from tensorflow import keras\n",
    "from tensorflow.keras import layers, optimizers, losses, metrics, Model, regularizers\n",
    "from sklearn import preprocessing, feature_extraction, model_selection\n",
    "from copy import deepcopy\n",
    "import matplotlib.pyplot as plt\n",
    "from stellargraph import datasets\n",
    "from IPython.display import display, HTML\n",
    "%matplotlib inline"
   ]
  },
  {
   "cell_type": "markdown",
   "metadata": {},
   "source": [
    "### Loading the CORA network"
   ]
  },
  {
   "cell_type": "code",
   "execution_count": 2,
   "metadata": {},
   "outputs": [
    {
     "data": {
      "text/html": [
       "The Cora dataset consists of 2708 scientific publications classified into one of seven classes. The citation network consists of 5429 links. Each publication in the dataset is described by a 0/1-valued word vector indicating the absence/presence of the corresponding word from the dictionary. The dictionary consists of 1433 unique words."
      ],
      "text/plain": [
       "<IPython.core.display.HTML object>"
      ]
     },
     "metadata": {},
     "output_type": "display_data"
    }
   ],
   "source": [
    "dataset = datasets.Cora()\n",
    "display(HTML(dataset.description))\n",
    "dataset.download()"
   ]
  },
  {
   "cell_type": "markdown",
   "metadata": {},
   "source": [
    "Load the graph from edgelist (in `cited-paper` <- `citing-paper` order)"
   ]
  },
  {
   "cell_type": "code",
   "execution_count": 3,
   "metadata": {},
   "outputs": [],
   "source": [
    "edgelist = pd.read_csv(\n",
    "    os.path.join(dataset.data_directory, \"cora.cites\"),\n",
    "    sep=\"\\t\",\n",
    "    header=None,\n",
    "    names=[\"target\", \"source\"],\n",
    ")\n",
    "edgelist[\"label\"] = \"cites\""
   ]
  },
  {
   "cell_type": "code",
   "execution_count": 4,
   "metadata": {},
   "outputs": [],
   "source": [
    "Gnx = nx.from_pandas_edgelist(edgelist, edge_attr=\"label\")\n",
    "nx.set_node_attributes(Gnx, \"paper\", \"label\")\n",
    "feature_names = [\"w_{}\".format(ii) for ii in range(1433)]\n",
    "column_names = feature_names + [\"subject\"]\n",
    "node_data = pd.read_csv(\n",
    "    os.path.join(dataset.data_directory, \"cora.content\"),\n",
    "    sep=\"\\t\",\n",
    "    header=None,\n",
    "    names=column_names,\n",
    ")"
   ]
  },
  {
   "cell_type": "markdown",
   "metadata": {},
   "source": [
    "The adjacency matrix is ordered by the graph nodes from G.nodes(). To make computations easier, let's reindex the node data to maintain the same ordering."
   ]
  },
  {
   "cell_type": "code",
   "execution_count": 5,
   "metadata": {},
   "outputs": [],
   "source": [
    "graph_nodes = list(Gnx.nodes())\n",
    "node_data = node_data.loc[graph_nodes]"
   ]
  },
  {
   "cell_type": "markdown",
   "metadata": {},
   "source": [
    "### Splitting the data"
   ]
  },
  {
   "cell_type": "markdown",
   "metadata": {},
   "source": [
    "For machine learning we want to take a subset of the nodes for training, and use the rest for validation and testing. We'll use scikit-learn again to do this.\n",
    "\n",
    "Here we're taking 140 node labels for training, 500 for validation, and the rest for testing."
   ]
  },
  {
   "cell_type": "code",
   "execution_count": 6,
   "metadata": {},
   "outputs": [],
   "source": [
    "train_data, test_data = model_selection.train_test_split(\n",
    "    node_data, train_size=140, test_size=None, stratify=node_data[\"subject\"]\n",
    ")\n",
    "val_data, test_data = model_selection.train_test_split(\n",
    "    test_data, train_size=500, test_size=None, stratify=test_data[\"subject\"]\n",
    ")"
   ]
  },
  {
   "cell_type": "markdown",
   "metadata": {},
   "source": [
    "### Converting to numeric arrays"
   ]
  },
  {
   "cell_type": "markdown",
   "metadata": {},
   "source": [
    "For our categorical target, we will use one-hot vectors that will be fed into a soft-max Keras layer during training. To do this conversion ...\n",
    "\n",
    "We now do the same for the node attributes we want to use to predict the subject. These are the feature vectors that the Keras model will use as input. The CORA dataset contains attributes 'w_x' that correspond to words found in that publication. If a word occurs more than once in a publication the relevant attribute will be set to one, otherwise it will be zero."
   ]
  },
  {
   "cell_type": "code",
   "execution_count": 7,
   "metadata": {},
   "outputs": [],
   "source": [
    "target_encoding = feature_extraction.DictVectorizer(sparse=False)\n",
    "feature_names = [\"w_{}\".format(ii) for ii in range(1433)]\n",
    "column_names = feature_names + [\"subject\"]\n",
    "train_targets = target_encoding.fit_transform(train_data[[\"subject\"]].to_dict(\"records\"))\n",
    "val_targets = target_encoding.transform(val_data[[\"subject\"]].to_dict(\"records\"))\n",
    "test_targets = target_encoding.transform(test_data[[\"subject\"]].to_dict(\"records\"))\n",
    "\n",
    "node_ids = node_data.index\n",
    "all_targets = target_encoding.transform(node_data[[\"subject\"]].to_dict(\"records\"))\n",
    "node_features = node_data[feature_names]"
   ]
  },
  {
   "cell_type": "markdown",
   "metadata": {},
   "source": [
    "### Creating the GCN model in Keras"
   ]
  },
  {
   "cell_type": "markdown",
   "metadata": {},
   "source": [
    "Now create a StellarGraph object from the NetworkX graph and the node features and targets. To feed data from the graph to the Keras model we need a generator. Since GCN is a full-batch model, we use the `FullBatchNodeGenerator` class.\n",
    "\n",
    "Note: For interpretability we require a dense matrix so we set `sparse=False` in the `FullBatchNodeGenerator`."
   ]
  },
  {
   "cell_type": "code",
   "execution_count": 8,
   "metadata": {},
   "outputs": [
    {
     "name": "stdout",
     "output_type": "stream",
     "text": [
      "Using GCN (local pooling) filters...\n"
     ]
    }
   ],
   "source": [
    "G = sg.StellarGraph(Gnx, node_features=node_features)\n",
    "generator = FullBatchNodeGenerator(G, sparse=False)"
   ]
  },
  {
   "cell_type": "markdown",
   "metadata": {},
   "source": [
    "For training we map only the training nodes returned from our splitter and the target values."
   ]
  },
  {
   "cell_type": "code",
   "execution_count": 9,
   "metadata": {},
   "outputs": [],
   "source": [
    "train_gen = generator.flow(train_data.index, train_targets)"
   ]
  },
  {
   "cell_type": "markdown",
   "metadata": {},
   "source": [
    "Now we can specify our machine learning model: tn this example we use two GCN layers with 16-dimensional hidden node features at each layer with ELU activation functions."
   ]
  },
  {
   "cell_type": "code",
   "execution_count": 10,
   "metadata": {},
   "outputs": [],
   "source": [
    "layer_sizes = [16, 16]\n",
    "gcn = GCN(\n",
    "    layer_sizes=layer_sizes,\n",
    "    activations=[\"elu\", \"elu\"],\n",
    "    generator=generator,\n",
    "    dropout=0.3,\n",
    "    kernel_regularizer=regularizers.l2(5e-4),\n",
    ")"
   ]
  },
  {
   "cell_type": "code",
   "execution_count": 11,
   "metadata": {},
   "outputs": [],
   "source": [
    "# Expose the input and output tensors of the GCN model for node prediction, via GCN.build() method:\n",
    "x_inp, x_out = gcn.build()\n",
    "# Snap the final estimator layer to x_out\n",
    "x_out = layers.Dense(units=train_targets.shape[1], activation=\"softmax\")(x_out)"
   ]
  },
  {
   "cell_type": "markdown",
   "metadata": {},
   "source": [
    "### Training the model"
   ]
  },
  {
   "cell_type": "markdown",
   "metadata": {},
   "source": [
    "Now let's create the actual Keras model with the input tensors `x_inp` and output tensors being the predictions `x_out` from the final dense layer"
   ]
  },
  {
   "cell_type": "code",
   "execution_count": 12,
   "metadata": {},
   "outputs": [],
   "source": [
    "model = keras.Model(inputs=x_inp, outputs=x_out)\n",
    "\n",
    "model.compile(\n",
    "    optimizer=optimizers.Adam(lr=0.01),  # decay=0.001),\n",
    "    loss=losses.categorical_crossentropy,\n",
    "    metrics=[metrics.categorical_accuracy],\n",
    ")"
   ]
  },
  {
   "cell_type": "markdown",
   "metadata": {},
   "source": [
    "Train the model, keeping track of its loss and accuracy on the training set, and its generalisation performance on the validation set (we need to create another generator over the validation data for this)"
   ]
  },
  {
   "cell_type": "code",
   "execution_count": 13,
   "metadata": {},
   "outputs": [],
   "source": [
    "val_gen = generator.flow(val_data.index, val_targets)"
   ]
  },
  {
   "cell_type": "markdown",
   "metadata": {},
   "source": [
    "Train the model"
   ]
  },
  {
   "cell_type": "code",
   "execution_count": 14,
   "metadata": {},
   "outputs": [
    {
     "name": "stdout",
     "output_type": "stream",
     "text": [
      "Epoch 1/20\n",
      "WARNING:tensorflow:From /Users/kieranricardo/anaconda3/envs/tf2-stellar/lib/python3.6/site-packages/tensorflow_core/python/ops/array_grad.py:502: _EagerTensorBase.cpu (from tensorflow.python.framework.ops) is deprecated and will be removed in a future version.\n",
      "Instructions for updating:\n",
      "Use tf.identity instead.\n",
      "1/1 - 0s - loss: 1.9065 - categorical_accuracy: 0.2286 - val_loss: 1.7931 - val_categorical_accuracy: 0.3020\n",
      "Epoch 2/20\n",
      "1/1 - 0s - loss: 1.7443 - categorical_accuracy: 0.3000 - val_loss: 1.7219 - val_categorical_accuracy: 0.3020\n",
      "Epoch 3/20\n",
      "1/1 - 0s - loss: 1.6230 - categorical_accuracy: 0.3143 - val_loss: 1.6416 - val_categorical_accuracy: 0.3080\n",
      "Epoch 4/20\n",
      "1/1 - 0s - loss: 1.4923 - categorical_accuracy: 0.3857 - val_loss: 1.5460 - val_categorical_accuracy: 0.4000\n",
      "Epoch 5/20\n",
      "1/1 - 0s - loss: 1.3310 - categorical_accuracy: 0.5357 - val_loss: 1.4493 - val_categorical_accuracy: 0.5120\n",
      "Epoch 6/20\n",
      "1/1 - 0s - loss: 1.1908 - categorical_accuracy: 0.7071 - val_loss: 1.3623 - val_categorical_accuracy: 0.6080\n",
      "Epoch 7/20\n",
      "1/1 - 0s - loss: 1.0744 - categorical_accuracy: 0.7500 - val_loss: 1.2840 - val_categorical_accuracy: 0.6620\n",
      "Epoch 8/20\n",
      "1/1 - 0s - loss: 0.9635 - categorical_accuracy: 0.8286 - val_loss: 1.2105 - val_categorical_accuracy: 0.6880\n",
      "Epoch 9/20\n",
      "1/1 - 0s - loss: 0.8520 - categorical_accuracy: 0.8571 - val_loss: 1.1451 - val_categorical_accuracy: 0.7180\n",
      "Epoch 10/20\n",
      "1/1 - 0s - loss: 0.7736 - categorical_accuracy: 0.8714 - val_loss: 1.0895 - val_categorical_accuracy: 0.7380\n",
      "Epoch 11/20\n",
      "1/1 - 0s - loss: 0.6743 - categorical_accuracy: 0.8857 - val_loss: 1.0437 - val_categorical_accuracy: 0.7460\n",
      "Epoch 12/20\n",
      "1/1 - 0s - loss: 0.5947 - categorical_accuracy: 0.9214 - val_loss: 1.0059 - val_categorical_accuracy: 0.7460\n",
      "Epoch 13/20\n",
      "1/1 - 0s - loss: 0.5493 - categorical_accuracy: 0.9571 - val_loss: 0.9740 - val_categorical_accuracy: 0.7580\n",
      "Epoch 14/20\n",
      "1/1 - 0s - loss: 0.5050 - categorical_accuracy: 0.9500 - val_loss: 0.9480 - val_categorical_accuracy: 0.7540\n",
      "Epoch 15/20\n",
      "1/1 - 0s - loss: 0.4366 - categorical_accuracy: 0.9571 - val_loss: 0.9266 - val_categorical_accuracy: 0.7600\n",
      "Epoch 16/20\n",
      "1/1 - 0s - loss: 0.4155 - categorical_accuracy: 0.9643 - val_loss: 0.9090 - val_categorical_accuracy: 0.7580\n",
      "Epoch 17/20\n",
      "1/1 - 0s - loss: 0.3601 - categorical_accuracy: 0.9786 - val_loss: 0.8937 - val_categorical_accuracy: 0.7600\n",
      "Epoch 18/20\n",
      "1/1 - 0s - loss: 0.3430 - categorical_accuracy: 0.9786 - val_loss: 0.8850 - val_categorical_accuracy: 0.7640\n",
      "Epoch 19/20\n",
      "1/1 - 0s - loss: 0.3009 - categorical_accuracy: 0.9786 - val_loss: 0.8799 - val_categorical_accuracy: 0.7660\n",
      "Epoch 20/20\n",
      "1/1 - 0s - loss: 0.2892 - categorical_accuracy: 0.9857 - val_loss: 0.8783 - val_categorical_accuracy: 0.7600\n"
     ]
    }
   ],
   "source": [
    "history = model.fit_generator(\n",
    "    train_gen, shuffle=False, epochs=20, verbose=2, validation_data=val_gen\n",
    ")"
   ]
  },
  {
   "cell_type": "code",
   "execution_count": 15,
   "metadata": {},
   "outputs": [],
   "source": [
    "import matplotlib.pyplot as plt\n",
    "%matplotlib inline\n",
    "\n",
    "def remove_prefix(text, prefix):\n",
    "    return text[text.startswith(prefix) and len(prefix):]\n",
    "\n",
    "def plot_history(history):\n",
    "    metrics = sorted(set([remove_prefix(m, \"val_\") for m in list(history.history.keys())]))\n",
    "    for m in metrics:\n",
    "        # summarize history for metric m\n",
    "        plt.plot(history.history[m])\n",
    "        plt.plot(history.history['val_' + m])\n",
    "        plt.title(m)\n",
    "        plt.ylabel(m)\n",
    "        plt.xlabel('epoch')\n",
    "        plt.legend(['train', 'validation'], loc='best')\n",
    "        plt.show()"
   ]
  },
  {
   "cell_type": "code",
   "execution_count": 16,
   "metadata": {},
   "outputs": [
    {
     "data": {
      "image/png": "[encoded data removed]",
      "text/plain": [
       "<Figure size 432x288 with 1 Axes>"
      ]
     },
     "metadata": {
      "needs_background": "light"
     },
     "output_type": "display_data"
    },
    {
     "data": {
      "image/png": "[encoded data removed]",
      "text/plain": [
       "<Figure size 432x288 with 1 Axes>"
      ]
     },
     "metadata": {
      "needs_background": "light"
     },
     "output_type": "display_data"
    }
   ],
   "source": [
    "plot_history(history)"
   ]
  },
  {
   "cell_type": "markdown",
   "metadata": {},
   "source": [
    "Evaluate the trained model on the test set"
   ]
  },
  {
   "cell_type": "code",
   "execution_count": 17,
   "metadata": {},
   "outputs": [
    {
     "name": "stdout",
     "output_type": "stream",
     "text": [
      "\n",
      "Test Set Metrics:\n",
      "\tloss: 0.8753\n",
      "\tcategorical_accuracy: 0.7868\n"
     ]
    }
   ],
   "source": [
    "test_gen = generator.flow(test_data.index, test_targets)\n",
    "test_metrics = model.evaluate_generator(test_gen)\n",
    "print(\"\\nTest Set Metrics:\")\n",
    "for name, val in zip(model.metrics_names, test_metrics):\n",
    "    print(\"\\t{}: {:0.4f}\".format(name, val))"
   ]
  },
  {
   "cell_type": "markdown",
   "metadata": {},
   "source": [
    "# Node and link importance via saliency maps"
   ]
  },
  {
   "cell_type": "markdown",
   "metadata": {},
   "source": [
    "In order to understand why a selected node is predicted as a certain class we want to find the node feature importance, total node importance, and link importance for nodes and edges in the selected node's neighbourhood (ego-net). These importances give information about the effect of changes in the node's features and its neighbourhood on the prediction of the node, specifically:\n",
    "\n",
    "#### Node feature importance:\n",
    "Given the selected node $t$ and the model's prediction $s(c)$ for class $c$. The feature importance can be calculated for each node $v$ in the selcted node's ego-net where the importance of feature $f$ for node $v$ is the change predicted score $s(c)$ for the selected node when the feature $f$ of node $v$ is perturbed.\n",
    "\n",
    "#### Total node importance:\n",
    "This is defined as the sum of the feature importances for node $v$ for all features. Nodes with high importance (positive or negative) affect the prediction for the selected node more than links with low importance. \n",
    "\n",
    "#### Link importance:\n",
    "This is defined as the change in the selected node's predicted score $s(c)$ if the link $e=(u, v)$ is removed from the graph. Links with high importance (positive or negative) affect the prediction for the selected node more than links with low importance. \n",
    "\n",
    "Node and link importances can be used to assess the role of nodes and links in model's predictions for the node(s) of interest (the selected node). For datasets like CORA-ML, the features and edges are binary, vanilla gradients may not perform well so we use integrated gradients [[1]](#refs) to compute them.\n",
    "\n",
    "Another interesting application of node and link importances is to identify model vulnerabilities to attacks via perturbing node features and graph structure (see [[2]](#refs))."
   ]
  },
  {
   "cell_type": "markdown",
   "metadata": {},
   "source": [
    "To investigate these importances we use the StellarGraph `saliency_maps` routines:"
   ]
  },
  {
   "cell_type": "code",
   "execution_count": 18,
   "metadata": {},
   "outputs": [],
   "source": [
    "from stellargraph.utils.saliency_maps import IntegratedGradients, GradientSaliency"
   ]
  },
  {
   "cell_type": "markdown",
   "metadata": {},
   "source": [
    "Select the target node whose prediction is to be interpreted"
   ]
  },
  {
   "cell_type": "code",
   "execution_count": 19,
   "metadata": {},
   "outputs": [],
   "source": [
    "target_idx = 7  # index of the selected node in G.nodes()\n",
    "target_nid = graph_nodes[target_idx]  # Node ID of the selected node\n",
    "y_true = all_targets[target_idx]  # true class of the target node"
   ]
  },
  {
   "cell_type": "code",
   "execution_count": 20,
   "metadata": {},
   "outputs": [
    {
     "name": "stdout",
     "output_type": "stream",
     "text": [
      "Selected node id: 1109199, \n",
      "True label: [0. 1. 0. 0. 0. 0. 0.], \n",
      "Predicted scores: [0.03 0.72 0.01 0.   0.07 0.   0.17]\n"
     ]
    }
   ],
   "source": [
    "all_gen = generator.flow(graph_nodes)\n",
    "y_pred = model.predict_generator(all_gen)[0, target_idx]\n",
    "class_of_interest = np.argmax(y_pred)\n",
    "\n",
    "print(\n",
    "    \"Selected node id: {}, \\nTrue label: {}, \\nPredicted scores: {}\".format(\n",
    "        target_nid, y_true, y_pred.round(2)\n",
    "    )\n",
    ")"
   ]
  },
  {
   "cell_type": "markdown",
   "metadata": {},
   "source": [
    "Get the node feature importance by using integrated gradients"
   ]
  },
  {
   "cell_type": "code",
   "execution_count": 21,
   "metadata": {},
   "outputs": [],
   "source": [
    "int_grad_saliency = IntegratedGradients(model, train_gen)"
   ]
  },
  {
   "cell_type": "markdown",
   "metadata": {},
   "source": [
    "For the parameters of `get_node_importance` method, `X` and `A` are the feature and adjacency matrices, respectively. `target_idx` is the node of interest, and `class_of_interest` is set as the predicted label of the node. `steps` indicates the number of steps used to approximate the integration in integrated gradients calculation. A larger value of `steps` gives better approximation, at the cost of higher computational overhead."
   ]
  },
  {
   "cell_type": "code",
   "execution_count": 22,
   "metadata": {},
   "outputs": [
    {
     "name": "stdout",
     "output_type": "stream",
     "text": [
      "WARNING:tensorflow:Layer lambda is casting an input tensor from dtype float64 to the layer's dtype of float32, which is new behavior in TensorFlow 2.  The layer has dtype float32 because it's dtype defaults to floatx.\n",
      "\n",
      "If you intended to run this layer in float32, you can safely ignore this warning. If in doubt, this warning is likely only an issue if you are porting a TensorFlow 1.X model to TensorFlow 2.\n",
      "\n",
      "To change all layers to have dtype float64 by default, call `tf.keras.backend.set_floatx('float64')`. To change just this layer, pass dtype='float64' to the layer constructor. If you are the author of this layer, you can disable autocasting by passing autocast=False to the base Layer constructor.\n",
      "\n",
      "WARNING:tensorflow:Layer dropout is casting an input tensor from dtype float64 to the layer's dtype of float32, which is new behavior in TensorFlow 2.  The layer has dtype float32 because it's dtype defaults to floatx.\n",
      "\n",
      "If you intended to run this layer in float32, you can safely ignore this warning. If in doubt, this warning is likely only an issue if you are porting a TensorFlow 1.X model to TensorFlow 2.\n",
      "\n",
      "To change all layers to have dtype float64 by default, call `tf.keras.backend.set_floatx('float64')`. To change just this layer, pass dtype='float64' to the layer constructor. If you are the author of this layer, you can disable autocasting by passing autocast=False to the base Layer constructor.\n",
      "\n"
     ]
    }
   ],
   "source": [
    "integrated_node_importance = int_grad_saliency.get_node_importance(\n",
    "    target_idx, class_of_interest, steps=50\n",
    ")"
   ]
  },
  {
   "cell_type": "code",
   "execution_count": 23,
   "metadata": {},
   "outputs": [
    {
     "data": {
      "text/plain": [
       "(2708,)"
      ]
     },
     "execution_count": 23,
     "metadata": {},
     "output_type": "execute_result"
    }
   ],
   "source": [
    "integrated_node_importance.shape"
   ]
  },
  {
   "cell_type": "code",
   "execution_count": 24,
   "metadata": {},
   "outputs": [
    {
     "name": "stdout",
     "output_type": "stream",
     "text": [
      "\n",
      "integrated_node_importance [0.03 1.11 0.04 ... 0.   0.   0.  ]\n",
      "integrate_node_importance.shape = (2708,)\n",
      "integrated self-importance of target node 1109199: 9.44\n"
     ]
    }
   ],
   "source": [
    "print(\"\\nintegrated_node_importance\", integrated_node_importance.round(2))\n",
    "print(\"integrate_node_importance.shape = {}\".format(integrated_node_importance.shape))\n",
    "print(\n",
    "    \"integrated self-importance of target node {}: {}\".format(\n",
    "        target_nid, integrated_node_importance[target_idx].round(2)\n",
    "    )\n",
    ")"
   ]
  },
  {
   "cell_type": "markdown",
   "metadata": {},
   "source": [
    "Check that number of non-zero node importance values is less or equal the number of nodes in target node's K-hop ego net (where K is the number of GCN layers in the model)"
   ]
  },
  {
   "cell_type": "code",
   "execution_count": 25,
   "metadata": {},
   "outputs": [],
   "source": [
    "G_ego = nx.ego_graph(Gnx, target_nid, radius=len(gcn.activations))"
   ]
  },
  {
   "cell_type": "code",
   "execution_count": 26,
   "metadata": {},
   "outputs": [
    {
     "name": "stdout",
     "output_type": "stream",
     "text": [
      "Number of nodes in the ego graph: 202\n",
      "Number of non-zero elements in integrated_node_importance: 202\n"
     ]
    }
   ],
   "source": [
    "print(\"Number of nodes in the ego graph: {}\".format(len(G_ego.nodes())))\n",
    "print(\n",
    "    \"Number of non-zero elements in integrated_node_importance: {}\".format(\n",
    "        np.count_nonzero(integrated_node_importance)\n",
    "    )\n",
    ")"
   ]
  },
  {
   "cell_type": "markdown",
   "metadata": {},
   "source": [
    "We now compute the link importance using integrated gradients [1]. Integrated gradients are obtained by cumulating the gradients along the path between the baseline (all-zero graph) and the state of the graph. They provide better sensitivity for the graphs with binary features and edges compared with the vanilla gradients."
   ]
  },
  {
   "cell_type": "code",
   "execution_count": 27,
   "metadata": {},
   "outputs": [
    {
     "name": "stdout",
     "output_type": "stream",
     "text": [
      "integrate_link_importance.shape = (2708, 2708)\n"
     ]
    }
   ],
   "source": [
    "integrate_link_importance = int_grad_saliency.get_integrated_link_masks(\n",
    "    target_idx, class_of_interest, steps=50\n",
    ")\n",
    "print(\"integrate_link_importance.shape = {}\".format(integrate_link_importance.shape))"
   ]
  },
  {
   "cell_type": "markdown",
   "metadata": {},
   "source": [
    "Some sanity checks:\n",
    "We expect the number of non-zero elements in the integrated link importance be same or less than the number of real edges in the ego graph."
   ]
  },
  {
   "cell_type": "code",
   "execution_count": 28,
   "metadata": {},
   "outputs": [],
   "source": [
    "(X, _, A), _ = train_gen[0]"
   ]
  },
  {
   "cell_type": "code",
   "execution_count": 29,
   "metadata": {},
   "outputs": [
    {
     "name": "stdout",
     "output_type": "stream",
     "text": [
      "Number of edges in the ego graph: 210\n",
      "Number of non-zero elements in integrate_link_importance: 210\n"
     ]
    }
   ],
   "source": [
    "# The built-in number_of_edges function for the ego graph does not count the self-loops and some reversed edges\n",
    "# in the non-directed graph so we do the sanity check as the following.\n",
    "G_ego_edges = set()\n",
    "for i in np.nonzero(A[0, target_idx])[0]:\n",
    "    G_ego_edges.add((graph_nodes[target_idx], graph_nodes[i]))\n",
    "    for j in np.nonzero(A[0, i])[0]:\n",
    "        G_ego_edges.add((graph_nodes[i], graph_nodes[j]))\n",
    "print(\"Number of edges in the ego graph: {}\".format(len(G_ego_edges)))\n",
    "print(\n",
    "    \"Number of non-zero elements in integrate_link_importance: {}\".format(\n",
    "        np.count_nonzero(integrate_link_importance)\n",
    "    )\n",
    ")"
   ]
  },
  {
   "cell_type": "markdown",
   "metadata": {},
   "source": [
    "We can now find the nodes that have the highest importance to the prediction of the selected node:"
   ]
  },
  {
   "cell_type": "code",
   "execution_count": 30,
   "metadata": {},
   "outputs": [
    {
     "name": "stdout",
     "output_type": "stream",
     "text": [
      "Top 10 most important links by integrated gradients are:\n",
      " [(6214, 1152740), (6214, 27631), (6214, 1106172), (6214, 38480), (6214, 1105764), (6214, 345340), (6214, 13960), (6214, 95589), (6214, 124064), (1109199, 6214)]\n"
     ]
    }
   ],
   "source": [
    "sorted_indices = np.argsort(integrate_link_importance.flatten())\n",
    "N = len(graph_nodes)\n",
    "integrated_link_importance_rank = [\n",
    "    (graph_nodes[k // N], graph_nodes[k % N]) for k in sorted_indices[::-1]\n",
    "]\n",
    "topk = 10\n",
    "print(\n",
    "    \"Top {} most important links by integrated gradients are:\\n {}\".format(\n",
    "        topk, integrated_link_importance_rank[-topk:]\n",
    "    )\n",
    ")"
   ]
  },
  {
   "cell_type": "code",
   "execution_count": 31,
   "metadata": {},
   "outputs": [],
   "source": [
    "# Set the labels as an attribute for the nodes in the graph. The labels are used to color the nodes in different classes.\n",
    "nx.set_node_attributes(\n",
    "    G_ego, values={x[0]: {\"subject\": x[1]} for x in node_data[\"subject\"].items()}\n",
    ")"
   ]
  },
  {
   "cell_type": "markdown",
   "metadata": {},
   "source": [
    "In the following, we plot the link and node importance (computed by integrated gradients) of the nodes within the ego graph of the target node. \n",
    "\n",
    "For nodes, the shape of the node indicates the positive/negative importance the node has. 'round' nodes have positive importance while 'diamond' nodes have negative importance. The size of the node indicates the value of the importance, e.g., a large diamond node has higher negative importance. \n",
    "\n",
    "For links, the color of the link indicates the positive/negative importance the link has. 'red' links have positive importance while 'blue' links have negative importance. The width of the link indicates the value of the importance, e.g., a thicker blue link has higher negative importance."
   ]
  },
  {
   "cell_type": "code",
   "execution_count": 32,
   "metadata": {},
   "outputs": [
    {
     "data": {
      "text/plain": [
       "10.584574560220062"
      ]
     },
     "execution_count": 32,
     "metadata": {},
     "output_type": "execute_result"
    }
   ],
   "source": [
    "integrated_node_importance.max()"
   ]
  },
  {
   "cell_type": "code",
   "execution_count": 33,
   "metadata": {},
   "outputs": [
    {
     "data": {
      "text/plain": [
       "0.1567920033633709"
      ]
     },
     "execution_count": 33,
     "metadata": {},
     "output_type": "execute_result"
    }
   ],
   "source": [
    "integrate_link_importance.max()"
   ]
  },
  {
   "cell_type": "code",
   "execution_count": 34,
   "metadata": {},
   "outputs": [
    {
     "data": {
      "image/png": "[encoded data removed]",
      "text/plain": [
       "<Figure size 1080x720 with 2 Axes>"
      ]
     },
     "metadata": {
      "needs_background": "light"
     },
     "output_type": "display_data"
    }
   ],
   "source": [
    "node_size_factor = 1e2\n",
    "link_width_factor = 2\n",
    "\n",
    "nodes = list(G_ego.nodes())\n",
    "colors = pd.DataFrame(\n",
    "    [v[1][\"subject\"] for v in G_ego.nodes(data=True)], index=nodes, columns=[\"subject\"]\n",
    ")\n",
    "colors = np.argmax(target_encoding.transform(colors.to_dict(\"records\")), axis=1) + 1\n",
    "\n",
    "fig, ax = plt.subplots(1, 1, figsize=(15, 10))\n",
    "pos = nx.spring_layout(G_ego)\n",
    "\n",
    "# Draw ego as large and red\n",
    "node_sizes = [integrated_node_importance[graph_nodes.index(k)] for k in nodes]\n",
    "node_shapes = [\"o\" if w > 0 else \"d\" for w in node_sizes]\n",
    "\n",
    "positive_colors, negative_colors = [], []\n",
    "positive_node_sizes, negative_node_sizes = [], []\n",
    "positive_nodes, negative_nodes = [], []\n",
    "node_size_scale = node_size_factor / np.max(node_sizes)\n",
    "for k in range(len(nodes)):\n",
    "    if nodes[k] == target_idx:\n",
    "        continue\n",
    "    if node_shapes[k] == \"o\":\n",
    "        positive_colors.append(colors[k])\n",
    "        positive_nodes.append(nodes[k])\n",
    "        positive_node_sizes.append(node_size_scale * node_sizes[k])\n",
    "\n",
    "    else:\n",
    "        negative_colors.append(colors[k])\n",
    "        negative_nodes.append(nodes[k])\n",
    "        negative_node_sizes.append(node_size_scale * abs(node_sizes[k]))\n",
    "\n",
    "# Plot the ego network with the node importances\n",
    "cmap = plt.get_cmap(\"jet\", np.max(colors) - np.min(colors) + 1)\n",
    "nc = nx.draw_networkx_nodes(\n",
    "    G_ego,\n",
    "    pos,\n",
    "    nodelist=positive_nodes,\n",
    "    node_color=positive_colors,\n",
    "    cmap=cmap,\n",
    "    node_size=positive_node_sizes,\n",
    "    with_labels=False,\n",
    "    vmin=np.min(colors) - 0.5,\n",
    "    vmax=np.max(colors) + 0.5,\n",
    "    node_shape=\"o\",\n",
    ")\n",
    "nc = nx.draw_networkx_nodes(\n",
    "    G_ego,\n",
    "    pos,\n",
    "    nodelist=negative_nodes,\n",
    "    node_color=negative_colors,\n",
    "    cmap=cmap,\n",
    "    node_size=negative_node_sizes,\n",
    "    with_labels=False,\n",
    "    vmin=np.min(colors) - 0.5,\n",
    "    vmax=np.max(colors) + 0.5,\n",
    "    node_shape=\"d\",\n",
    ")\n",
    "# Draw the target node as a large star colored by its true subject\n",
    "nx.draw_networkx_nodes(\n",
    "    G_ego,\n",
    "    pos,\n",
    "    nodelist=[target_nid],\n",
    "    node_size=50 * abs(node_sizes[nodes.index(target_nid)]),\n",
    "    node_shape=\"*\",\n",
    "    node_color=[colors[nodes.index(target_nid)]],\n",
    "    cmap=cmap,\n",
    "    vmin=np.min(colors) - 0.5,\n",
    "    vmax=np.max(colors) + 0.5,\n",
    "    label=\"Target\",\n",
    ")\n",
    "\n",
    "# Draw the edges with the edge importances\n",
    "edges = G_ego.edges()\n",
    "weights = [\n",
    "    integrate_link_importance[graph_nodes.index(u), graph_nodes.index(v)]\n",
    "    for u, v in edges\n",
    "]\n",
    "edge_colors = [\"red\" if w > 0 else \"blue\" for w in weights]\n",
    "weights = link_width_factor * np.abs(weights) / np.max(weights)\n",
    "\n",
    "ec = nx.draw_networkx_edges(G_ego, pos, edge_color=edge_colors, width=weights)\n",
    "plt.legend()\n",
    "plt.colorbar(nc, ticks=np.arange(np.min(colors), np.max(colors) + 1))\n",
    "plt.axis(\"off\")\n",
    "plt.show()"
   ]
  },
  {
   "cell_type": "markdown",
   "metadata": {},
   "source": [
    "We then remove the node or edge in the ego graph one by one and check how the prediction changes. By doing so, we can obtain the ground truth importance of the nodes and edges. Comparing the following figure and the above one can show the effectiveness of integrated gradients as the importance approximations are relatively consistent with the ground truth."
   ]
  },
  {
   "cell_type": "code",
   "execution_count": 35,
   "metadata": {},
   "outputs": [
    {
     "name": "stderr",
     "output_type": "stream",
     "text": [
      "/Users/kieranricardo/anaconda3/envs/tf2-stellar/lib/python3.6/site-packages/matplotlib/collections.py:857: RuntimeWarning: invalid value encountered in sqrt\n",
      "  scale = np.sqrt(self._sizes) * dpi / 72.0 * self._factor\n"
     ]
    },
    {
     "data": {
      "image/png": "[encoded data removed]",
      "text/plain": [
       "<Figure size 1080x720 with 2 Axes>"
      ]
     },
     "metadata": {
      "needs_background": "light"
     },
     "output_type": "display_data"
    }
   ],
   "source": [
    "X_bk = deepcopy(X)\n",
    "A_bk = deepcopy(A)\n",
    "selected_nodes = np.array([[target_idx]], dtype=\"int32\")\n",
    "nodes = [graph_nodes.index(v) for v in G_ego.nodes()]\n",
    "edges = [(graph_nodes.index(u), graph_nodes.index(v)) for u, v in G_ego.edges()]\n",
    "\n",
    "clean_prediction = model.predict([X, selected_nodes, A]).squeeze()\n",
    "predict_label = np.argmax(clean_prediction)\n",
    "\n",
    "groud_truth_node_importance = np.zeros((N,))\n",
    "for node in nodes:\n",
    "    # we set all the features of the node to zero to check the ground truth node importance.\n",
    "    X_perturb = deepcopy(X_bk)\n",
    "    X_perturb[:, node, :] = 0\n",
    "    predict_after_perturb = model.predict([X_perturb, selected_nodes, A]).squeeze()\n",
    "    groud_truth_node_importance[node] = (\n",
    "        clean_prediction[predict_label] - predict_after_perturb[predict_label]\n",
    "    )\n",
    "\n",
    "node_shapes = [\n",
    "    \"o\" if groud_truth_node_importance[k] > 0 else \"d\" for k in range(len(nodes))\n",
    "]\n",
    "positive_colors, negative_colors = [], []\n",
    "positive_node_sizes, negative_node_sizes = [], []\n",
    "positive_nodes, negative_nodes = [], []\n",
    "# node_size_scale is used for better visulization of nodes\n",
    "node_size_scale = node_size_factor / max(groud_truth_node_importance)\n",
    "\n",
    "for k in range(len(node_shapes)):\n",
    "    if nodes[k] == target_idx:\n",
    "        continue\n",
    "    if node_shapes[k] == \"o\":\n",
    "        positive_colors.append(colors[k])\n",
    "        positive_nodes.append(graph_nodes[nodes[k]])\n",
    "        positive_node_sizes.append(\n",
    "            node_size_scale * groud_truth_node_importance[nodes[k]]\n",
    "        )\n",
    "    else:\n",
    "        negative_colors.append(colors[k])\n",
    "        negative_nodes.append(graph_nodes[nodes[k]])\n",
    "        negative_node_sizes.append(\n",
    "            node_size_scale * abs(groud_truth_node_importance[nodes[k]])\n",
    "        )\n",
    "X = deepcopy(X_bk)\n",
    "groud_truth_edge_importance = np.zeros((N, N))\n",
    "for edge in edges:\n",
    "    A = deepcopy(A_bk)\n",
    "    if A[0, edge[0], edge[1]] == 0:\n",
    "        continue\n",
    "    # we set the weight of a given edge to zero to check the ground truth link importance\n",
    "    A[:, edge[0], edge[1]] = 0\n",
    "    predict_after_perturb = model.predict([X, selected_nodes, A]).squeeze()\n",
    "    groud_truth_edge_importance[edge[0], edge[1]] = (\n",
    "        predict_after_perturb[predict_label] - clean_prediction[predict_label]\n",
    "    ) / (0 - 1)\n",
    "    A[:, edge[0], edge[1]] = 1\n",
    "\n",
    "fig, ax = plt.subplots(1, 1, figsize=(15, 10))\n",
    "cmap = plt.get_cmap(\"jet\", np.max(colors) - np.min(colors) + 1)\n",
    "# Draw the target node as a large star colored by its true subject\n",
    "nx.draw_networkx_nodes(\n",
    "    G_ego,\n",
    "    pos,\n",
    "    nodelist=[target_nid],\n",
    "    node_size=50 * abs(node_sizes[nodes.index(target_idx)]),\n",
    "    node_color=[colors[nodes.index(target_idx)]],\n",
    "    cmap=cmap,\n",
    "    node_shape=\"*\",\n",
    "    vmin=np.min(colors) - 0.5,\n",
    "    vmax=np.max(colors) + 0.5,\n",
    "    label=\"Target\",\n",
    ")\n",
    "# Draw the ego net\n",
    "nc = nx.draw_networkx_nodes(\n",
    "    G_ego,\n",
    "    pos,\n",
    "    nodelist=positive_nodes,\n",
    "    node_color=positive_colors,\n",
    "    cmap=cmap,\n",
    "    node_size=positive_node_sizes,\n",
    "    with_labels=False,\n",
    "    vmin=np.min(colors) - 0.5,\n",
    "    vmax=np.max(colors) + 0.5,\n",
    "    node_shape=\"o\",\n",
    ")\n",
    "nc = nx.draw_networkx_nodes(\n",
    "    G_ego,\n",
    "    pos,\n",
    "    nodelist=negative_nodes,\n",
    "    node_color=negative_colors,\n",
    "    cmap=cmap,\n",
    "    node_size=negative_node_sizes,\n",
    "    with_labels=False,\n",
    "    vmin=np.min(colors) - 0.5,\n",
    "    vmax=np.max(colors) + 0.5,\n",
    "    node_shape=\"d\",\n",
    ")\n",
    "edges = G_ego.edges()\n",
    "weights = [\n",
    "    groud_truth_edge_importance[graph_nodes.index(u), graph_nodes.index(v)]\n",
    "    for u, v in edges\n",
    "]\n",
    "edge_colors = [\"red\" if w > 0 else \"blue\" for w in weights]\n",
    "weights = link_width_factor * np.abs(weights) / np.max(weights)\n",
    "\n",
    "ec = nx.draw_networkx_edges(G_ego, pos, edge_color=edge_colors, width=weights)\n",
    "plt.legend()\n",
    "plt.colorbar(nc, ticks=np.arange(np.min(colors), np.max(colors) + 1))\n",
    "plt.axis(\"off\")\n",
    "plt.show()"
   ]
  },
  {
   "cell_type": "markdown",
   "metadata": {},
   "source": [
    "By comparing the above two figures, one can see that the integrated gradients are quite consistent with the brute-force approach. The main benefit of using integrated gradients is scalability. The gradient operations are very efficient to compute on deep learning frameworks with the parallism provided by GPUs. Also, integrated gradients can give the importance of individual node features, for all nodes in the graph. Achieving this by brute-force approch is often non-trivial. "
   ]
  }
 ],
 "metadata": {
  "kernelspec": {
   "display_name": "Python 3",
   "language": "python",
   "name": "python3"
  },
  "language_info": {
   "codemirror_mode": {
    "name": "ipython",
    "version": 3
   },
   "file_extension": ".py",
   "mimetype": "text/x-python",
   "name": "python",
   "nbconvert_exporter": "python",
   "pygments_lexer": "ipython3",
   "version": "3.6.9"
  }
 },
 "nbformat": 4,
 "nbformat_minor": 2
}
